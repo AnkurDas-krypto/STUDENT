{
 "cells": [
  {
   "cell_type": "code",
   "execution_count": 1,
   "metadata": {},
   "outputs": [],
   "source": [
    "import os"
   ]
  },
  {
   "cell_type": "code",
   "execution_count": 2,
   "metadata": {},
   "outputs": [
    {
     "data": {
      "text/plain": [
       "'c:\\\\Users\\\\User\\\\Desktop\\\\practice_OOPS\\\\STUDENT\\\\research'"
      ]
     },
     "execution_count": 2,
     "metadata": {},
     "output_type": "execute_result"
    }
   ],
   "source": [
    "%pwd"
   ]
  },
  {
   "cell_type": "code",
   "execution_count": 3,
   "metadata": {},
   "outputs": [],
   "source": [
    "os.chdir(\"../\")"
   ]
  },
  {
   "cell_type": "code",
   "execution_count": 4,
   "metadata": {},
   "outputs": [
    {
     "data": {
      "text/plain": [
       "'c:\\\\Users\\\\User\\\\Desktop\\\\practice_OOPS\\\\STUDENT'"
      ]
     },
     "execution_count": 4,
     "metadata": {},
     "output_type": "execute_result"
    }
   ],
   "source": [
    "%pwd"
   ]
  },
  {
   "cell_type": "code",
   "execution_count": 16,
   "metadata": {},
   "outputs": [],
   "source": [
    "from dataclasses import dataclass\n",
    "from pathlib import Path\n",
    "@dataclass\n",
    "class ModelTrainerConfig:\n",
    "    root_dir : Path\n",
    "    model_path : Path\n",
    "    train_arr : Path\n",
    "    test_arr : Path"
   ]
  },
  {
   "cell_type": "code",
   "execution_count": 18,
   "metadata": {},
   "outputs": [],
   "source": [
    "from src.student.constants import CONFIG_FILE_PATH, PARAMS_FILE_PATH\n",
    "from src.student.utils.common import read_yaml, create_directories\n",
    "\n",
    "class ConfigurationManager:\n",
    "    def __init__(self, config_path = CONFIG_FILE_PATH, params_path = PARAMS_FILE_PATH):\n",
    "        self.config = read_yaml(config_path)\n",
    "        self.params = read_yaml(params_path)\n",
    "        create_directories([self.config.artifact_root])\n",
    "\n",
    "    def get_model_trainer(self) -> ModelTrainerConfig:\n",
    "        config = self.config.model_trainer\n",
    "        create_directories([config.root_dir])\n",
    "\n",
    "        model_trainer_config = ModelTrainerConfig(\n",
    "            root_dir = config.root_dir,\n",
    "            model_path = config.model_path,\n",
    "            train_arr  = config.train_arr,\n",
    "            test_arr = config.test_arr\n",
    "        )\n",
    "        return model_trainer_config\n",
    "    "
   ]
  },
  {
   "cell_type": "code",
   "execution_count": 23,
   "metadata": {},
   "outputs": [],
   "source": [
    "import pandas as pd\n",
    "from catboost import CatBoostRegressor\n",
    "from sklearn.ensemble import (\n",
    "    AdaBoostRegressor,\n",
    "    GradientBoostingRegressor,\n",
    "    RandomForestRegressor,\n",
    ")\n",
    "from sklearn.linear_model import LinearRegression\n",
    "from sklearn.metrics import r2_score\n",
    "from sklearn.neighbors import KNeighborsRegressor\n",
    "from sklearn.tree import DecisionTreeRegressor\n",
    "from xgboost import XGBRegressor\n",
    "import dill\n",
    "import pickle\n",
    "from sklearn.metrics import r2_score\n",
    "from sklearn.model_selection import GridSearchCV\n",
    "import os\n",
    "from src.student.utils.common import evaluate_models, save_object\n",
    "from src.exception import CustomException\n",
    "from src.logger import logging\n",
    "import sys\n",
    "\n",
    "class ModelTrainer:\n",
    "    def __init__(self, config = ModelTrainerConfig):\n",
    "        self.config = config\n",
    "    \n",
    "    def initiate_model_trainer(self):\n",
    "        try:\n",
    "            data_path = self.config.train_arr\n",
    "            train_csv_path = os.path.join(data_path, 'train_arr.csv')\n",
    "            test_csv_path = os.path.join(data_path, 'test_arr.csv')\n",
    "            train_array = pd.read_csv(train_csv_path).to_numpy()\n",
    "            test_array = pd.read_csv(test_csv_path).to_numpy()\n",
    "\n",
    "            X_train,y_train,X_test,y_test=(\n",
    "                        train_array[:,:-1],\n",
    "                        train_array[:,-1],\n",
    "                        test_array[:,:-1],\n",
    "                        test_array[:,-1]\n",
    "                    )\n",
    "            logging.info(\"data splitted into X_train, X_test, y_train and y_test\")\n",
    "            models = {\n",
    "                        \"Random Forest\": RandomForestRegressor(),\n",
    "                        \"Decision Tree\": DecisionTreeRegressor(),\n",
    "                        \"Gradient Boosting\": GradientBoostingRegressor(),\n",
    "                        \"Linear Regression\": LinearRegression(),\n",
    "                        \"XGBRegressor\": XGBRegressor(),\n",
    "                        \"CatBoosting Regressor\": CatBoostRegressor(verbose=False),\n",
    "                        \"AdaBoost Regressor\": AdaBoostRegressor(),\n",
    "                    }\n",
    "            params={\n",
    "                        \"Decision Tree\": {\n",
    "                            'criterion':['squared_error', 'friedman_mse', 'absolute_error', 'poisson'],\n",
    "                            # 'splitter':['best','random'],\n",
    "                            # 'max_features':['sqrt','log2'],\n",
    "                        },\n",
    "                        \"Random Forest\":{\n",
    "                            # 'criterion':['squared_error', 'friedman_mse', 'absolute_error', 'poisson'],\n",
    "                        \n",
    "                            # 'max_features':['sqrt','log2',None],\n",
    "                            'n_estimators': [8,16,32,64,128,256]\n",
    "                        },\n",
    "                        \"Gradient Boosting\":{\n",
    "                            # 'loss':['squared_error', 'huber', 'absolute_error', 'quantile'],\n",
    "                            'learning_rate':[.1,.01,.05,.001],\n",
    "                            'subsample':[0.6,0.7,0.75,0.8,0.85,0.9],\n",
    "                            # 'criterion':['squared_error', 'friedman_mse'],\n",
    "                            # 'max_features':['auto','sqrt','log2'],\n",
    "                            'n_estimators': [8,16,32,64,128,256]\n",
    "                        },\n",
    "                        \"Linear Regression\":{},\n",
    "                        \"XGBRegressor\":{\n",
    "                            'learning_rate':[.1,.01,.05,.001],\n",
    "                            'n_estimators': [8,16,32,64,128,256]\n",
    "                        },\n",
    "                        \"CatBoosting Regressor\":{\n",
    "                            'depth': [6,8,10],\n",
    "                            'learning_rate': [0.01, 0.05, 0.1],\n",
    "                            'iterations': [30, 50, 100]\n",
    "                        },\n",
    "                        \"AdaBoost Regressor\":{\n",
    "                            'learning_rate':[.1,.01,0.5,.001],\n",
    "                            # 'loss':['linear','square','exponential'],\n",
    "                            'n_estimators': [8,16,32,64,128,256]\n",
    "                        }\n",
    "                        \n",
    "                    }\n",
    "            \n",
    "            model_report:dict= evaluate_models(X_train=X_train,y_train=y_train,X_test=X_test,y_test=y_test,\n",
    "                                                    models=models,param=params)\n",
    "            \n",
    "            logging.info(\"model evaluation done\")\n",
    "            ## To get best model score from dict\n",
    "            best_model_score = max(sorted(model_report.values()))\n",
    "\n",
    "            ## To get best model name from dict\n",
    "\n",
    "            best_model_name = list(model_report.keys())[\n",
    "                list(model_report.values()).index(best_model_score)\n",
    "            ]\n",
    "            best_model = models[best_model_name]\n",
    "\n",
    "            if best_model_score<0.6:\n",
    "                        raise (\"No best model\")\n",
    "            logging.info(f\"best model is {best_model}\")\n",
    "            save_object(file_path= self.config.model_path, obj= best_model)\n",
    "\n",
    "            predicted = best_model.predict(X_test)\n",
    "            r2_square = r2_score(predicted, y_test)\n",
    "            logging.info(f\"best model is {best_model} and score is {r2_square}\")\n",
    "            return r2_square\n",
    "        \n",
    "    \n",
    "        except Exception as e:\n",
    "            raise CustomException(e, sys)\n",
    "\n",
    "        "
   ]
  },
  {
   "cell_type": "code",
   "execution_count": 24,
   "metadata": {},
   "outputs": [
    {
     "name": "stdout",
     "output_type": "stream",
     "text": [
      "0.8713413735245521\n"
     ]
    }
   ],
   "source": [
    "try:\n",
    "    config = ConfigurationManager()\n",
    "    model_trainer_config = config.get_model_trainer()\n",
    "    model_trainer = ModelTrainer(model_trainer_config)\n",
    "    score = model_trainer.initiate_model_trainer()\n",
    "    print(score)\n",
    "except Exception as e:\n",
    "    raise CustomException(e, sys)"
   ]
  },
  {
   "cell_type": "code",
   "execution_count": null,
   "metadata": {},
   "outputs": [],
   "source": []
  }
 ],
 "metadata": {
  "kernelspec": {
   "display_name": "student",
   "language": "python",
   "name": "python3"
  },
  "language_info": {
   "codemirror_mode": {
    "name": "ipython",
    "version": 3
   },
   "file_extension": ".py",
   "mimetype": "text/x-python",
   "name": "python",
   "nbconvert_exporter": "python",
   "pygments_lexer": "ipython3",
   "version": "3.8.17"
  },
  "orig_nbformat": 4
 },
 "nbformat": 4,
 "nbformat_minor": 2
}
